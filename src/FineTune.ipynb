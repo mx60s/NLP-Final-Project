{
 "cells": [
  {
   "cell_type": "markdown",
   "id": "6ba6fbac-6b0f-48aa-960f-d1553cd06374",
   "metadata": {
    "tags": []
   },
   "source": [
    "## Imports/Aux"
   ]
  },
  {
   "cell_type": "code",
   "execution_count": null,
   "id": "2b0c0761-b3e5-4080-815e-3c2c65b9331e",
   "metadata": {},
   "outputs": [],
   "source": [
    "# colab only\n",
    "\n",
    "from google.colab import drive\n",
    "drive.mount('/content/gdrive')"
   ]
  },
  {
   "cell_type": "code",
   "execution_count": null,
   "id": "dd769dc7-8bb3-4ff7-84cf-9f1c3b0cbf77",
   "metadata": {},
   "outputs": [],
   "source": [
    "# colab only\n",
    "\n",
    "%cd /content/gdrive/MyDrive/NLP_Final_Project\n",
    "! pip3 install -r requirements.txt"
   ]
  },
  {
   "cell_type": "code",
   "execution_count": null,
   "id": "ae029015-ac48-4243-b609-d680b007e6cb",
   "metadata": {},
   "outputs": [],
   "source": [
    "# colab only\n",
    "\n",
    "import sys\n",
    "sys.path.append('/content/drive/MyDrive/NLP_Final_Project/src')"
   ]
  },
  {
   "cell_type": "code",
   "execution_count": 2,
   "id": "709b9f40-6594-46f8-b4e5-9579f0161330",
   "metadata": {},
   "outputs": [
    {
     "name": "stderr",
     "output_type": "stream",
     "text": [
      "/opt/conda/lib/python3.10/site-packages/tqdm/auto.py:21: TqdmWarning: IProgress not found. Please update jupyter and ipywidgets. See https://ipywidgets.readthedocs.io/en/stable/user_install.html\n",
      "  from .autonotebook import tqdm as notebook_tqdm\n"
     ]
    },
    {
     "ename": "ModuleNotFoundError",
     "evalue": "No module named 'fairseq'",
     "output_type": "error",
     "traceback": [
      "\u001b[0;31m---------------------------------------------------------------------------\u001b[0m",
      "\u001b[0;31mModuleNotFoundError\u001b[0m                       Traceback (most recent call last)",
      "Cell \u001b[0;32mIn[2], line 2\u001b[0m\n\u001b[1;32m      1\u001b[0m \u001b[38;5;28;01mimport\u001b[39;00m \u001b[38;5;21;01mtorch\u001b[39;00m\n\u001b[0;32m----> 2\u001b[0m \u001b[38;5;28;01mfrom\u001b[39;00m \u001b[38;5;21;01mfairseq\u001b[39;00m\u001b[38;5;21;01m.\u001b[39;00m\u001b[38;5;21;01mmodels\u001b[39;00m\u001b[38;5;21;01m.\u001b[39;00m\u001b[38;5;21;01mtransformer_lm\u001b[39;00m \u001b[38;5;28;01mimport\u001b[39;00m TransformerLanguageModel\n",
      "\u001b[0;31mModuleNotFoundError\u001b[0m: No module named 'fairseq'"
     ]
    }
   ],
   "source": [
    "import torch\n",
    "from fairseq.models.transformer_lm import TransformerLanguageModel\n"
   ]
  },
  {
   "cell_type": "markdown",
   "id": "11b328c8-a38d-4e76-8c78-264c028ea9e0",
   "metadata": {},
   "source": [
    "## Data loading"
   ]
  },
  {
   "cell_type": "markdown",
   "id": "c4e84cc4-9eec-4945-a6c6-8ded41d4b61e",
   "metadata": {},
   "source": [
    "## Model Setup"
   ]
  },
  {
   "cell_type": "code",
   "execution_count": null,
   "id": "47f9fa07-94e0-48b8-9842-3a0b63ecae28",
   "metadata": {},
   "outputs": [],
   "source": []
  }
 ],
 "metadata": {
  "kernelspec": {
   "display_name": "Python 3 (ipykernel)",
   "language": "python",
   "name": "python3"
  },
  "language_info": {
   "codemirror_mode": {
    "name": "ipython",
    "version": 3
   },
   "file_extension": ".py",
   "mimetype": "text/x-python",
   "name": "python",
   "nbconvert_exporter": "python",
   "pygments_lexer": "ipython3",
   "version": "3.10.8"
  }
 },
 "nbformat": 4,
 "nbformat_minor": 5
}
